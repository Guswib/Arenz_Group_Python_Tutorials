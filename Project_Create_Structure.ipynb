{
 "cells": [
  {
   "cell_type": "markdown",
   "metadata": {},
   "source": [
    "# Create Project Structure\n",
    "This notebook creates a basic project structure. \n",
    "It is based on the article:\n",
    "\n",
    "https://towardsdatascience.com/its-time-to-structure-your-data-science-project-1fa064fbe46\n",
    "\n",
    "It can be good to restart the kernal.\n"
   ]
  },
  {
   "cell_type": "code",
   "execution_count": 1,
   "metadata": {},
   "outputs": [
    {
     "name": "stdout",
     "output_type": "stream",
     "text": [
      "loading arenz_group_python\n",
      "['c:\\\\Users\\\\gusta\\\\Documents\\\\GitHub\\\\Python\\\\Arenz_Group_Python_Tutorials\\\\.venv\\\\Lib\\\\site-packages\\\\arenz_group_python']\n",
      "c:\\Users\\gusta\\Documents\\GitHub\\Python\\Arenz_Group_Python_Tutorials\n"
     ]
    }
   ],
   "source": [
    "from arenz_group_python import Project_Paths\n",
    "\n",
    "#Path of the file.\n",
    "\n",
    "main_dir = Project_Paths().cwd\n",
    "print(str(main_dir))"
   ]
  },
  {
   "cell_type": "code",
   "execution_count": 3,
   "metadata": {},
   "outputs": [
    {
     "name": "stdout",
     "output_type": "stream",
     "text": [
      "\n",
      "creating files:\n",
      "\n",
      "+\"notebooks_models/modelData.ipynb\" was created\n",
      "+\"py_scripts/my_Module.py\" was created\n",
      "+\"__init__.py\" was created\n",
      "+\"extractData.ipynb\" was created\n",
      "+\"README.txt\" was created\n",
      "+\"README.txt\" was created\n",
      "+\"extracted_values.csv\" was created\n",
      "c:\\Users\\gusta\\Documents\\GitHub\\Python\\Arenz_Group_Python_Tutorials\\data_raw\n"
     ]
    }
   ],
   "source": [
    "#Creates the folder structre\n",
    "Project_Paths().create_project_structure(main_dir)\n",
    "print(Project_Paths().rawdata_path)"
   ]
  }
 ],
 "metadata": {
  "kernelspec": {
   "display_name": "Python 3",
   "language": "python",
   "name": "python3"
  },
  "language_info": {
   "codemirror_mode": {
    "name": "ipython",
    "version": 3
   },
   "file_extension": ".py",
   "mimetype": "text/x-python",
   "name": "python",
   "nbconvert_exporter": "python",
   "pygments_lexer": "ipython3",
   "version": "3.12.1"
  }
 },
 "nbformat": 4,
 "nbformat_minor": 2
}
