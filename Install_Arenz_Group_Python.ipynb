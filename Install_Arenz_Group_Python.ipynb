{
 "cells": [
  {
   "cell_type": "markdown",
   "metadata": {},
   "source": [
    "# General installation from github\n",
    "pip install \"Package\" @ git+\"URL of the repository#subdirectory=path\"\n",
    "\n",
    "Here, we want to install Arenz_Group Python package."
   ]
  },
  {
   "cell_type": "code",
   "execution_count": 1,
   "metadata": {},
   "outputs": [],
   "source": [
    "import sys\n",
    "path_to_executable = \"\\\"\" + str(sys.executable) +  \"\\\"\" #must be used if there are any spaces in the path"
   ]
  },
  {
   "cell_type": "markdown",
   "metadata": {},
   "source": [
    "This can take a while to install....2min or so"
   ]
  },
  {
   "cell_type": "code",
   "execution_count": 2,
   "metadata": {},
   "outputs": [
    {
     "name": "stdout",
     "output_type": "stream",
     "text": [
      "Collecting arenz_group_python@ git+https://github.com/Guswib/Arenz_Group_Python\n",
      "  Cloning https://github.com/Guswib/Arenz_Group_Python to c:\\users\\gusta\\appdata\\local\\temp\\pip-install-nnmtfpfo\\arenz-group-python_5db883d8a15d479283caa1d5b54caece\n",
      "  Resolved https://github.com/Guswib/Arenz_Group_Python to commit 855f47addffbf8faa9a1cd0af69024c9a1f0f104\n",
      "  Installing build dependencies: started\n",
      "  Installing build dependencies: finished with status 'done'\n",
      "  Getting requirements to build wheel: started\n",
      "  Getting requirements to build wheel: finished with status 'done'\n",
      "  Preparing metadata (pyproject.toml): started\n",
      "  Preparing metadata (pyproject.toml): finished with status 'done'\n",
      "Requirement already satisfied: nptdms in c:\\users\\gusta\\documents\\github\\python\\arenz_group_python_tutorials\\.venv\\lib\\site-packages (from arenz_group_python@ git+https://github.com/Guswib/Arenz_Group_Python) (1.9.0)\n",
      "Requirement already satisfied: matplotlib in c:\\users\\gusta\\documents\\github\\python\\arenz_group_python_tutorials\\.venv\\lib\\site-packages (from arenz_group_python@ git+https://github.com/Guswib/Arenz_Group_Python) (3.9.1)\n",
      "Requirement already satisfied: pathlib in c:\\users\\gusta\\documents\\github\\python\\arenz_group_python_tutorials\\.venv\\lib\\site-packages (from arenz_group_python@ git+https://github.com/Guswib/Arenz_Group_Python) (1.0.1)\n",
      "Requirement already satisfied: scipy in c:\\users\\gusta\\documents\\github\\python\\arenz_group_python_tutorials\\.venv\\lib\\site-packages (from arenz_group_python@ git+https://github.com/Guswib/Arenz_Group_Python) (1.14.0)\n",
      "Requirement already satisfied: numpy in c:\\users\\gusta\\documents\\github\\python\\arenz_group_python_tutorials\\.venv\\lib\\site-packages (from arenz_group_python@ git+https://github.com/Guswib/Arenz_Group_Python) (2.0.1)\n",
      "Requirement already satisfied: pandas in c:\\users\\gusta\\documents\\github\\python\\arenz_group_python_tutorials\\.venv\\lib\\site-packages (from arenz_group_python@ git+https://github.com/Guswib/Arenz_Group_Python) (2.2.2)\n",
      "Requirement already satisfied: contourpy>=1.0.1 in c:\\users\\gusta\\documents\\github\\python\\arenz_group_python_tutorials\\.venv\\lib\\site-packages (from matplotlib->arenz_group_python@ git+https://github.com/Guswib/Arenz_Group_Python) (1.2.1)\n",
      "Requirement already satisfied: cycler>=0.10 in c:\\users\\gusta\\documents\\github\\python\\arenz_group_python_tutorials\\.venv\\lib\\site-packages (from matplotlib->arenz_group_python@ git+https://github.com/Guswib/Arenz_Group_Python) (0.12.1)\n",
      "Requirement already satisfied: fonttools>=4.22.0 in c:\\users\\gusta\\documents\\github\\python\\arenz_group_python_tutorials\\.venv\\lib\\site-packages (from matplotlib->arenz_group_python@ git+https://github.com/Guswib/Arenz_Group_Python) (4.53.1)\n",
      "Requirement already satisfied: kiwisolver>=1.3.1 in c:\\users\\gusta\\documents\\github\\python\\arenz_group_python_tutorials\\.venv\\lib\\site-packages (from matplotlib->arenz_group_python@ git+https://github.com/Guswib/Arenz_Group_Python) (1.4.5)\n",
      "Requirement already satisfied: packaging>=20.0 in c:\\users\\gusta\\documents\\github\\python\\arenz_group_python_tutorials\\.venv\\lib\\site-packages (from matplotlib->arenz_group_python@ git+https://github.com/Guswib/Arenz_Group_Python) (24.1)\n",
      "Requirement already satisfied: pillow>=8 in c:\\users\\gusta\\documents\\github\\python\\arenz_group_python_tutorials\\.venv\\lib\\site-packages (from matplotlib->arenz_group_python@ git+https://github.com/Guswib/Arenz_Group_Python) (10.4.0)\n",
      "Requirement already satisfied: pyparsing>=2.3.1 in c:\\users\\gusta\\documents\\github\\python\\arenz_group_python_tutorials\\.venv\\lib\\site-packages (from matplotlib->arenz_group_python@ git+https://github.com/Guswib/Arenz_Group_Python) (3.1.2)\n",
      "Requirement already satisfied: python-dateutil>=2.7 in c:\\users\\gusta\\documents\\github\\python\\arenz_group_python_tutorials\\.venv\\lib\\site-packages (from matplotlib->arenz_group_python@ git+https://github.com/Guswib/Arenz_Group_Python) (2.9.0.post0)\n",
      "Requirement already satisfied: pytz>=2020.1 in c:\\users\\gusta\\documents\\github\\python\\arenz_group_python_tutorials\\.venv\\lib\\site-packages (from pandas->arenz_group_python@ git+https://github.com/Guswib/Arenz_Group_Python) (2024.1)\n",
      "Requirement already satisfied: tzdata>=2022.7 in c:\\users\\gusta\\documents\\github\\python\\arenz_group_python_tutorials\\.venv\\lib\\site-packages (from pandas->arenz_group_python@ git+https://github.com/Guswib/Arenz_Group_Python) (2024.1)\n",
      "Requirement already satisfied: six>=1.5 in c:\\users\\gusta\\documents\\github\\python\\arenz_group_python_tutorials\\.venv\\lib\\site-packages (from python-dateutil>=2.7->matplotlib->arenz_group_python@ git+https://github.com/Guswib/Arenz_Group_Python) (1.16.0)\n",
      "Building wheels for collected packages: arenz_group_python\n",
      "  Building wheel for arenz_group_python (pyproject.toml): started\n",
      "  Building wheel for arenz_group_python (pyproject.toml): finished with status 'done'\n",
      "  Created wheel for arenz_group_python: filename=Arenz_Group_Python-0.1.19-py3-none-any.whl size=30585 sha256=5c55dedccb68c882bde4ac12b94fa6e7c2b698f096a0c835d91becbe6bd8fe8f\n",
      "  Stored in directory: C:\\Users\\gusta\\AppData\\Local\\Temp\\pip-ephem-wheel-cache-3rf9pjdj\\wheels\\8a\\c5\\f6\\a7145b1d27d575f97ca914f27fe8aca06bf4ecaeed5219d24d\n",
      "Successfully built arenz_group_python\n",
      "Installing collected packages: arenz_group_python\n",
      "  Attempting uninstall: arenz_group_python\n",
      "    Found existing installation: Arenz_Group_Python 0.1.17\n",
      "    Uninstalling Arenz_Group_Python-0.1.17:\n",
      "      Successfully uninstalled Arenz_Group_Python-0.1.17\n",
      "Successfully installed arenz_group_python-0.1.19\n"
     ]
    },
    {
     "name": "stderr",
     "output_type": "stream",
     "text": [
      "  Running command git clone --filter=blob:none --quiet https://github.com/Guswib/Arenz_Group_Python 'C:\\Users\\gusta\\AppData\\Local\\Temp\\pip-install-nnmtfpfo\\arenz-group-python_5db883d8a15d479283caa1d5b54caece'\n",
      "\n",
      "[notice] A new release of pip is available: 24.1.2 -> 24.2\n",
      "[notice] To update, run: python.exe -m pip install --upgrade pip\n"
     ]
    }
   ],
   "source": [
    "#works for most venv.\n",
    "\n",
    "!{path_to_executable} -m pip install arenz_group_python@git+https://github.com/Guswib/Arenz_Group_Python"
   ]
  },
  {
   "cell_type": "markdown",
   "metadata": {},
   "source": [
    "If you dont have pip or git installed in your conda env., run:\n",
    "\n",
    ">%conda install pip\n",
    "\n",
    ">%conda install git"
   ]
  }
 ],
 "metadata": {
  "kernelspec": {
   "display_name": "Python 3",
   "language": "python",
   "name": "python3"
  },
  "language_info": {
   "codemirror_mode": {
    "name": "ipython",
    "version": 3
   },
   "file_extension": ".py",
   "mimetype": "text/x-python",
   "name": "python",
   "nbconvert_exporter": "python",
   "pygments_lexer": "ipython3",
   "version": "3.12.1"
  }
 },
 "nbformat": 4,
 "nbformat_minor": 2
}
