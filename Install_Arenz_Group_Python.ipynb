{
 "cells": [
  {
   "cell_type": "markdown",
   "metadata": {},
   "source": [
    "# General installation from github\n",
    "pip install \"Package\" @ git+\"URL of the repository#subdirectory=path\"\n",
    "\n",
    "Here, we want to install Arenz_Group Python package."
   ]
  },
  {
   "cell_type": "code",
   "execution_count": 22,
   "metadata": {},
   "outputs": [],
   "source": [
    "import sys\n",
    "path_to_executable = \"\\\"\" + str(sys.executable) +  \"\\\"\" #must be used if there are any spaces in the path"
   ]
  },
  {
   "cell_type": "markdown",
   "metadata": {},
   "source": [
    "This can take a while to install....2min or so"
   ]
  },
  {
   "cell_type": "code",
   "execution_count": 23,
   "metadata": {},
   "outputs": [
    {
     "name": "stdout",
     "output_type": "stream",
     "text": [
      "Collecting arenz_group_python@ git+https://github.com/Guswib/Arenz_Group_Python\n",
      "  Cloning https://github.com/Guswib/Arenz_Group_Python to c:\\users\\gusta\\appdata\\local\\temp\\pip-install-x599ws5m\\arenz-group-python_4083ffa8c85241389ca2b424d5d9c547\n",
      "  Resolved https://github.com/Guswib/Arenz_Group_Python to commit 7f9d44afd71d12b0bf49ca8364912237d11e6590\n",
      "  Installing build dependencies: started\n",
      "  Installing build dependencies: finished with status 'done'\n",
      "  Getting requirements to build wheel: started\n",
      "  Getting requirements to build wheel: finished with status 'done'\n",
      "  Preparing metadata (pyproject.toml): started\n",
      "  Preparing metadata (pyproject.toml): finished with status 'done'\n",
      "Requirement already satisfied: nptdms in c:\\users\\gusta\\documents\\github\\python\\arenz_group_python_tutorials\\.venv\\lib\\site-packages (from arenz_group_python@ git+https://github.com/Guswib/Arenz_Group_Python) (1.9.0)\n",
      "Requirement already satisfied: matplotlib in c:\\users\\gusta\\documents\\github\\python\\arenz_group_python_tutorials\\.venv\\lib\\site-packages (from arenz_group_python@ git+https://github.com/Guswib/Arenz_Group_Python) (3.9.1)\n",
      "Requirement already satisfied: pathlib in c:\\users\\gusta\\documents\\github\\python\\arenz_group_python_tutorials\\.venv\\lib\\site-packages (from arenz_group_python@ git+https://github.com/Guswib/Arenz_Group_Python) (1.0.1)\n",
      "Requirement already satisfied: scipy in c:\\users\\gusta\\documents\\github\\python\\arenz_group_python_tutorials\\.venv\\lib\\site-packages (from arenz_group_python@ git+https://github.com/Guswib/Arenz_Group_Python) (1.14.0)\n",
      "Requirement already satisfied: numpy in c:\\users\\gusta\\documents\\github\\python\\arenz_group_python_tutorials\\.venv\\lib\\site-packages (from arenz_group_python@ git+https://github.com/Guswib/Arenz_Group_Python) (2.0.1)\n",
      "Requirement already satisfied: pandas in c:\\users\\gusta\\documents\\github\\python\\arenz_group_python_tutorials\\.venv\\lib\\site-packages (from arenz_group_python@ git+https://github.com/Guswib/Arenz_Group_Python) (2.2.2)\n",
      "Requirement already satisfied: contourpy>=1.0.1 in c:\\users\\gusta\\documents\\github\\python\\arenz_group_python_tutorials\\.venv\\lib\\site-packages (from matplotlib->arenz_group_python@ git+https://github.com/Guswib/Arenz_Group_Python) (1.2.1)\n",
      "Requirement already satisfied: cycler>=0.10 in c:\\users\\gusta\\documents\\github\\python\\arenz_group_python_tutorials\\.venv\\lib\\site-packages (from matplotlib->arenz_group_python@ git+https://github.com/Guswib/Arenz_Group_Python) (0.12.1)\n",
      "Requirement already satisfied: fonttools>=4.22.0 in c:\\users\\gusta\\documents\\github\\python\\arenz_group_python_tutorials\\.venv\\lib\\site-packages (from matplotlib->arenz_group_python@ git+https://github.com/Guswib/Arenz_Group_Python) (4.53.1)\n",
      "Requirement already satisfied: kiwisolver>=1.3.1 in c:\\users\\gusta\\documents\\github\\python\\arenz_group_python_tutorials\\.venv\\lib\\site-packages (from matplotlib->arenz_group_python@ git+https://github.com/Guswib/Arenz_Group_Python) (1.4.5)\n",
      "Requirement already satisfied: packaging>=20.0 in c:\\users\\gusta\\documents\\github\\python\\arenz_group_python_tutorials\\.venv\\lib\\site-packages (from matplotlib->arenz_group_python@ git+https://github.com/Guswib/Arenz_Group_Python) (24.1)\n",
      "Requirement already satisfied: pillow>=8 in c:\\users\\gusta\\documents\\github\\python\\arenz_group_python_tutorials\\.venv\\lib\\site-packages (from matplotlib->arenz_group_python@ git+https://github.com/Guswib/Arenz_Group_Python) (10.4.0)\n",
      "Requirement already satisfied: pyparsing>=2.3.1 in c:\\users\\gusta\\documents\\github\\python\\arenz_group_python_tutorials\\.venv\\lib\\site-packages (from matplotlib->arenz_group_python@ git+https://github.com/Guswib/Arenz_Group_Python) (3.1.2)\n",
      "Requirement already satisfied: python-dateutil>=2.7 in c:\\users\\gusta\\documents\\github\\python\\arenz_group_python_tutorials\\.venv\\lib\\site-packages (from matplotlib->arenz_group_python@ git+https://github.com/Guswib/Arenz_Group_Python) (2.9.0.post0)\n",
      "Requirement already satisfied: pytz>=2020.1 in c:\\users\\gusta\\documents\\github\\python\\arenz_group_python_tutorials\\.venv\\lib\\site-packages (from pandas->arenz_group_python@ git+https://github.com/Guswib/Arenz_Group_Python) (2024.1)\n",
      "Requirement already satisfied: tzdata>=2022.7 in c:\\users\\gusta\\documents\\github\\python\\arenz_group_python_tutorials\\.venv\\lib\\site-packages (from pandas->arenz_group_python@ git+https://github.com/Guswib/Arenz_Group_Python) (2024.1)\n",
      "Requirement already satisfied: six>=1.5 in c:\\users\\gusta\\documents\\github\\python\\arenz_group_python_tutorials\\.venv\\lib\\site-packages (from python-dateutil>=2.7->matplotlib->arenz_group_python@ git+https://github.com/Guswib/Arenz_Group_Python) (1.16.0)\n",
      "Building wheels for collected packages: arenz_group_python\n",
      "  Building wheel for arenz_group_python (pyproject.toml): started\n",
      "  Building wheel for arenz_group_python (pyproject.toml): finished with status 'done'\n",
      "  Created wheel for arenz_group_python: filename=Arenz_Group_Python-0.0.23-py3-none-any.whl size=20093 sha256=53e76746e1446e3ee5c4a108f04ebcbfb8038e9aa25f8ac73aaffc19fa4ee004\n",
      "  Stored in directory: C:\\Users\\gusta\\AppData\\Local\\Temp\\pip-ephem-wheel-cache-ms1l1kf7\\wheels\\8a\\c5\\f6\\a7145b1d27d575f97ca914f27fe8aca06bf4ecaeed5219d24d\n",
      "Successfully built arenz_group_python\n",
      "Installing collected packages: arenz_group_python\n",
      "  Attempting uninstall: arenz_group_python\n",
      "    Found existing installation: Arenz_Group_Python 0.0.22\n",
      "    Uninstalling Arenz_Group_Python-0.0.22:\n",
      "      Successfully uninstalled Arenz_Group_Python-0.0.22\n",
      "Successfully installed arenz_group_python-0.0.23\n"
     ]
    },
    {
     "name": "stderr",
     "output_type": "stream",
     "text": [
      "  Running command git clone --filter=blob:none --quiet https://github.com/Guswib/Arenz_Group_Python 'C:\\Users\\gusta\\AppData\\Local\\Temp\\pip-install-x599ws5m\\arenz-group-python_4083ffa8c85241389ca2b424d5d9c547'\n"
     ]
    }
   ],
   "source": [
    "#works for most venv.\n",
    "\n",
    "!{path_to_executable} -m pip install arenz_group_python@git+https://github.com/Guswib/Arenz_Group_Python"
   ]
  },
  {
   "cell_type": "markdown",
   "metadata": {},
   "source": [
    "If you donot have pip or git installed in your conda env., run:\n",
    "conda install pip\n",
    "conda install git"
   ]
  },
  {
   "cell_type": "code",
   "execution_count": 24,
   "metadata": {},
   "outputs": [
    {
     "name": "stdout",
     "output_type": "stream",
     "text": [
      "\n",
      "Please wait a moment while I gather a list of all available modules...\n",
      "\n",
      "loading arenz_group_python\n",
      "['c:\\\\Users\\\\gusta\\\\Documents\\\\GitHub\\\\Python\\\\Arenz_Group_Python_Tutorials\\\\.venv\\\\Lib\\\\site-packages\\\\arenz_group_python']\n",
      "IPython             asttokens           matplotlib_inline   symtable\n",
      "PIL                 asyncio             mimetypes           sys\n",
      "__future__          atexit              mmap                sysconfig\n",
      "__hello__           audioop             mmapfile            tabnanny\n",
      "__phello__          base64              mmsystem            tarfile\n",
      "_abc                bdb                 modulefinder        telnetlib\n",
      "_aix_support        binascii            mpl_toolkits        tempfile\n",
      "_ast                bisect              msilib              test\n",
      "_asyncio            builtins            msvcrt              textwrap\n",
      "_bisect             bz2                 multiprocessing     this\n",
      "_blake2             cProfile            nest_asyncio        threading\n",
      "_bz2                calendar            netbios             time\n",
      "_codecs             cgi                 netrc               timeit\n",
      "_codecs_cn          cgitb               nntplib             timer\n",
      "_codecs_hk          chunk               nptdms              tkinter\n",
      "_codecs_iso2022     cmath               nt                  token\n",
      "_codecs_jp          cmd                 ntpath              tokenize\n",
      "_codecs_kr          code                ntsecuritycon       tomllib\n",
      "_codecs_tw          codecs              nturl2path          tornado\n",
      "_collections        codeop              numbers             trace\n",
      "_collections_abc    collections         numpy               traceback\n",
      "_compat_pickle      colorama            odbc                tracemalloc\n",
      "_compression        colorsys            opcode              traitlets\n",
      "_contextvars        comm                operator            tty\n",
      "_csv                commctrl            optparse            turtle\n",
      "_ctypes             compileall          os                  turtledemo\n",
      "_ctypes_test        concurrent          packaging           types\n",
      "_datetime           configparser        pandas              typing\n",
      "_decimal            contextlib          parso               tzdata\n",
      "_elementtree        contextvars         pathlib             unicodedata\n",
      "_functools          contourpy           pdb                 unittest\n",
      "_hashlib            copy                perfmon             urllib\n",
      "_heapq              copyreg             pickle              uu\n",
      "_imp                crypt               pickletools         uuid\n",
      "_io                 csv                 pip                 venv\n",
      "_json               ctypes              pipes               warnings\n",
      "_locale             curses              pkgutil             wave\n",
      "_lsprof             cycler              platform            wcwidth\n",
      "_lzma               dataclasses         platformdirs        weakref\n",
      "_markupbase         datetime            plistlib            webbrowser\n",
      "_md5                dateutil            poplib              win2kras\n",
      "_msi                dbi                 posixpath           win32api\n",
      "_multibytecodec     dbm                 pprint              win32clipboard\n",
      "_multiprocessing    dde                 profile             win32com\n",
      "_opcode             debugpy             prompt_toolkit      win32con\n",
      "_operator           decimal             pstats              win32console\n",
      "_osx_support        decorator           psutil              win32cred\n",
      "_overlapped         difflib             pty                 win32crypt\n",
      "_pickle             dis                 pure_eval           win32cryptcon\n",
      "_py_abc             doctest             py_compile          win32event\n",
      "_pydatetime         email               pyclbr              win32evtlog\n",
      "_pydecimal          encodings           pydoc               win32evtlogutil\n",
      "_pyio               ensurepip           pydoc_data          win32file\n",
      "_pylong             enum                pyexpat             win32gui\n",
      "_queue              errno               pygments            win32gui_struct\n",
      "_random             executing           pylab               win32help\n",
      "_sha1               faulthandler        pyparsing           win32inet\n",
      "_sha2               filecmp             pythoncom           win32inetcon\n",
      "_sha3               fileinput           pytz                win32job\n",
      "_signal             fnmatch             pywin               win32lz\n",
      "_sitebuiltins       fontTools           pywin32_bootstrap   win32net\n",
      "_socket             fractions           pywin32_testutil    win32netcon\n",
      "_sqlite3            ftplib              pywintypes          win32pdh\n",
      "_sre                functools           queue               win32pdhquery\n",
      "_ssl                gc                  quopri              win32pdhutil\n",
      "_stat               genericpath         random              win32pipe\n",
      "_statistics         getopt              rasutil             win32print\n",
      "_string             getpass             re                  win32process\n",
      "_strptime           gettext             regcheck            win32profile\n",
      "_struct             glob                regutil             win32ras\n",
      "_symtable           graphlib            reprlib             win32rcparser\n",
      "_testbuffer         gzip                rlcompleter         win32security\n",
      "_testcapi           hashlib             runpy               win32service\n",
      "_testclinic         heapq               sched               win32serviceutil\n",
      "_testconsole        hmac                scipy               win32timezone\n",
      "_testimportmultiple html                secrets             win32trace\n",
      "_testinternalcapi   http                select              win32traceutil\n",
      "_testmultiphase     idlelib             selectors           win32transaction\n",
      "_testsinglephase    imaplib             servicemanager      win32ts\n",
      "_thread             imghdr              shelve              win32ui\n",
      "_threading_local    importlib           shlex               win32uiole\n",
      "_tkinter            inspect             shutil              win32verstamp\n",
      "_tokenize           io                  signal              win32wnet\n",
      "_tracemalloc        ipaddress           site                winerror\n",
      "_typing             ipykernel           six                 winioctlcon\n",
      "_uuid               ipykernel_launcher  smtplib             winnt\n",
      "_warnings           isapi               sndhdr              winperf\n",
      "_weakref            itertools           socket              winreg\n",
      "_weakrefset         jedi                socketserver        winsound\n",
      "_win32sysloader     json                sqlite3             winxpgui\n",
      "_winapi             jupyter             sre_compile         winxptheme\n",
      "_winxptheme         jupyter_client      sre_constants       wsgiref\n",
      "_wmi                jupyter_core        sre_parse           xdrlib\n",
      "_xxinterpchannels   keyword             ssl                 xml\n",
      "_xxsubinterpreters  kiwisolver          sspi                xmlrpc\n",
      "_zoneinfo           lib2to3             sspicon             xxsubtype\n",
      "abc                 linecache           stack_data          zipapp\n",
      "adodbapi            locale              start_pythonwin     zipfile\n",
      "afxres              logging             stat                zipimport\n",
      "aifc                lzma                statistics          zlib\n",
      "antigravity         mailbox             string              zmq\n",
      "arenz_group_python  mailcap             stringprep          zoneinfo\n",
      "argparse            marshal             struct              \n",
      "array               math                subprocess          \n",
      "ast                 matplotlib          sunau               \n",
      "\n",
      "Enter any module name to get more help.  Or, type \"modules spam\" to search\n",
      "for modules whose name or summary contain the string \"spam\".\n",
      "\n"
     ]
    }
   ],
   "source": [
    "\n",
    "help('modules')"
   ]
  }
 ],
 "metadata": {
  "kernelspec": {
   "display_name": "Python 3",
   "language": "python",
   "name": "python3"
  },
  "language_info": {
   "codemirror_mode": {
    "name": "ipython",
    "version": 3
   },
   "file_extension": ".py",
   "mimetype": "text/x-python",
   "name": "python",
   "nbconvert_exporter": "python",
   "pygments_lexer": "ipython3",
   "version": "3.12.1"
  }
 },
 "nbformat": 4,
 "nbformat_minor": 2
}
