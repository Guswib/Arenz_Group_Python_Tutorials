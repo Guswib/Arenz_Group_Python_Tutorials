{
 "cells": [
  {
   "cell_type": "markdown",
   "metadata": {},
   "source": [
    "# General installation from github\n",
    "pip install \"Package\" @ git+\"URL of the repository#subdirectory=path\"\n",
    "\n",
    "Here, we want to install Arenz_Group Python package."
   ]
  },
  {
   "cell_type": "code",
   "execution_count": 1,
   "metadata": {},
   "outputs": [],
   "source": [
    "import sys\n",
    "path_to_executable = \"\\\"\" + str(sys.executable) +  \"\\\"\" #must be used if there are any spaces in the path"
   ]
  },
  {
   "cell_type": "markdown",
   "metadata": {},
   "source": [
    "This can take a while to install....2min or so"
   ]
  },
  {
   "cell_type": "code",
   "execution_count": 2,
   "metadata": {},
   "outputs": [
    {
     "name": "stdout",
     "output_type": "stream",
     "text": [
      "Collecting arenz_group_python@ git+https://github.com/Guswib/Arenz_Group_Python\n",
      "  Cloning https://github.com/Guswib/Arenz_Group_Python to c:\\users\\gusta\\appdata\\local\\temp\\pip-install-1kltaqp1\\arenz-group-python_e2ea0ac648e04cffb6f1cdf24403800c\n",
      "  Resolved https://github.com/Guswib/Arenz_Group_Python to commit aab9bcf897bf8d765d9534eec0dad072e051bc54\n",
      "  Installing build dependencies: started\n",
      "  Installing build dependencies: finished with status 'done'\n",
      "  Getting requirements to build wheel: started\n",
      "  Getting requirements to build wheel: finished with status 'done'\n",
      "  Preparing metadata (pyproject.toml): started\n",
      "  Preparing metadata (pyproject.toml): finished with status 'done'\n",
      "Requirement already satisfied: nptdms in c:\\users\\gusta\\documents\\github\\python\\arenz_group_python_tutorials\\.venv\\lib\\site-packages (from arenz_group_python@ git+https://github.com/Guswib/Arenz_Group_Python) (1.9.0)\n",
      "Requirement already satisfied: matplotlib in c:\\users\\gusta\\documents\\github\\python\\arenz_group_python_tutorials\\.venv\\lib\\site-packages (from arenz_group_python@ git+https://github.com/Guswib/Arenz_Group_Python) (3.9.1)\n",
      "Requirement already satisfied: pathlib in c:\\users\\gusta\\documents\\github\\python\\arenz_group_python_tutorials\\.venv\\lib\\site-packages (from arenz_group_python@ git+https://github.com/Guswib/Arenz_Group_Python) (1.0.1)\n",
      "Requirement already satisfied: scipy in c:\\users\\gusta\\documents\\github\\python\\arenz_group_python_tutorials\\.venv\\lib\\site-packages (from arenz_group_python@ git+https://github.com/Guswib/Arenz_Group_Python) (1.14.0)\n",
      "Requirement already satisfied: numpy in c:\\users\\gusta\\documents\\github\\python\\arenz_group_python_tutorials\\.venv\\lib\\site-packages (from arenz_group_python@ git+https://github.com/Guswib/Arenz_Group_Python) (2.0.1)\n",
      "Requirement already satisfied: pandas in c:\\users\\gusta\\documents\\github\\python\\arenz_group_python_tutorials\\.venv\\lib\\site-packages (from arenz_group_python@ git+https://github.com/Guswib/Arenz_Group_Python) (2.2.2)\n",
      "Requirement already satisfied: contourpy>=1.0.1 in c:\\users\\gusta\\documents\\github\\python\\arenz_group_python_tutorials\\.venv\\lib\\site-packages (from matplotlib->arenz_group_python@ git+https://github.com/Guswib/Arenz_Group_Python) (1.2.1)\n",
      "Requirement already satisfied: cycler>=0.10 in c:\\users\\gusta\\documents\\github\\python\\arenz_group_python_tutorials\\.venv\\lib\\site-packages (from matplotlib->arenz_group_python@ git+https://github.com/Guswib/Arenz_Group_Python) (0.12.1)\n",
      "Requirement already satisfied: fonttools>=4.22.0 in c:\\users\\gusta\\documents\\github\\python\\arenz_group_python_tutorials\\.venv\\lib\\site-packages (from matplotlib->arenz_group_python@ git+https://github.com/Guswib/Arenz_Group_Python) (4.53.1)\n",
      "Requirement already satisfied: kiwisolver>=1.3.1 in c:\\users\\gusta\\documents\\github\\python\\arenz_group_python_tutorials\\.venv\\lib\\site-packages (from matplotlib->arenz_group_python@ git+https://github.com/Guswib/Arenz_Group_Python) (1.4.5)\n",
      "Requirement already satisfied: packaging>=20.0 in c:\\users\\gusta\\documents\\github\\python\\arenz_group_python_tutorials\\.venv\\lib\\site-packages (from matplotlib->arenz_group_python@ git+https://github.com/Guswib/Arenz_Group_Python) (24.1)\n",
      "Requirement already satisfied: pillow>=8 in c:\\users\\gusta\\documents\\github\\python\\arenz_group_python_tutorials\\.venv\\lib\\site-packages (from matplotlib->arenz_group_python@ git+https://github.com/Guswib/Arenz_Group_Python) (10.4.0)\n",
      "Requirement already satisfied: pyparsing>=2.3.1 in c:\\users\\gusta\\documents\\github\\python\\arenz_group_python_tutorials\\.venv\\lib\\site-packages (from matplotlib->arenz_group_python@ git+https://github.com/Guswib/Arenz_Group_Python) (3.1.2)\n",
      "Requirement already satisfied: python-dateutil>=2.7 in c:\\users\\gusta\\documents\\github\\python\\arenz_group_python_tutorials\\.venv\\lib\\site-packages (from matplotlib->arenz_group_python@ git+https://github.com/Guswib/Arenz_Group_Python) (2.9.0.post0)\n",
      "Requirement already satisfied: pytz>=2020.1 in c:\\users\\gusta\\documents\\github\\python\\arenz_group_python_tutorials\\.venv\\lib\\site-packages (from pandas->arenz_group_python@ git+https://github.com/Guswib/Arenz_Group_Python) (2024.1)\n",
      "Requirement already satisfied: tzdata>=2022.7 in c:\\users\\gusta\\documents\\github\\python\\arenz_group_python_tutorials\\.venv\\lib\\site-packages (from pandas->arenz_group_python@ git+https://github.com/Guswib/Arenz_Group_Python) (2024.1)\n",
      "Requirement already satisfied: six>=1.5 in c:\\users\\gusta\\documents\\github\\python\\arenz_group_python_tutorials\\.venv\\lib\\site-packages (from python-dateutil>=2.7->matplotlib->arenz_group_python@ git+https://github.com/Guswib/Arenz_Group_Python) (1.16.0)\n",
      "Building wheels for collected packages: arenz_group_python\n",
      "  Building wheel for arenz_group_python (pyproject.toml): started\n",
      "  Building wheel for arenz_group_python (pyproject.toml): finished with status 'done'\n",
      "  Created wheel for arenz_group_python: filename=Arenz_Group_Python-0.0.24-py3-none-any.whl size=20951 sha256=b198e39df645809258e235abda7b5b8ca423bc8ad47bed83e3e16a07f272bff0\n",
      "  Stored in directory: C:\\Users\\gusta\\AppData\\Local\\Temp\\pip-ephem-wheel-cache-lzjddwip\\wheels\\8a\\c5\\f6\\a7145b1d27d575f97ca914f27fe8aca06bf4ecaeed5219d24d\n",
      "Successfully built arenz_group_python\n",
      "Installing collected packages: arenz_group_python\n",
      "  Attempting uninstall: arenz_group_python\n",
      "    Found existing installation: Arenz_Group_Python 0.0.23\n",
      "    Uninstalling Arenz_Group_Python-0.0.23:\n",
      "      Successfully uninstalled Arenz_Group_Python-0.0.23\n",
      "Successfully installed arenz_group_python-0.0.24\n"
     ]
    },
    {
     "name": "stderr",
     "output_type": "stream",
     "text": [
      "  Running command git clone --filter=blob:none --quiet https://github.com/Guswib/Arenz_Group_Python 'C:\\Users\\gusta\\AppData\\Local\\Temp\\pip-install-1kltaqp1\\arenz-group-python_e2ea0ac648e04cffb6f1cdf24403800c'\n"
     ]
    }
   ],
   "source": [
    "#works for most venv.\n",
    "\n",
    "!{path_to_executable} -m pip install arenz_group_python@git+https://github.com/Guswib/Arenz_Group_Python"
   ]
  },
  {
   "cell_type": "markdown",
   "metadata": {},
   "source": [
    "If you dont have pip or git installed in your conda env., run:\n",
    "\n",
    ">conda install pip\n",
    "\n",
    ">conda install git"
   ]
  },
  {
   "cell_type": "code",
   "execution_count": 3,
   "metadata": {},
   "outputs": [
    {
     "name": "stdout",
     "output_type": "stream",
     "text": [
      "\n",
      "Please wait a moment while I gather a list of all available modules...\n",
      "\n",
      "test_sqlite3: testing with SQLite version 3.43.1\n",
      "loading arenz_group_python\n",
      "['c:\\\\Users\\\\gusta\\\\Documents\\\\GitHub\\\\Python\\\\Arenz_Group_Python_Tutorials\\\\.venv\\\\Lib\\\\site-packages\\\\arenz_group_python']\n",
      "IPython             asttokens           matplotlib_inline   sunau\n",
      "PIL                 asyncio             mimetypes           symtable\n",
      "__future__          atexit              mmap                sys\n",
      "__hello__           audioop             mmapfile            sysconfig\n",
      "__phello__          base64              mmsystem            tabnanny\n",
      "_abc                bdb                 modulefinder        tarfile\n",
      "_aix_support        binascii            mpl_toolkits        telnetlib\n",
      "_ast                bisect              msilib              tempfile\n",
      "_asyncio            builtins            msvcrt              test\n",
      "_bisect             bz2                 multiprocessing     textwrap\n",
      "_blake2             cProfile            nest_asyncio        this\n",
      "_bz2                calendar            netbios             threading\n",
      "_codecs             cgi                 netrc               time\n",
      "_codecs_cn          cgitb               nntplib             timeit\n",
      "_codecs_hk          chunk               nptdms              timer\n",
      "_codecs_iso2022     cmath               nt                  tkinter\n",
      "_codecs_jp          cmd                 ntpath              token\n",
      "_codecs_kr          code                ntsecuritycon       tokenize\n",
      "_codecs_tw          codecs              nturl2path          tomllib\n",
      "_collections        codeop              numbers             tornado\n",
      "_collections_abc    collections         numpy               trace\n",
      "_compat_pickle      colorama            odbc                traceback\n",
      "_compression        colorsys            opcode              tracemalloc\n",
      "_contextvars        comm                operator            traitlets\n",
      "_csv                commctrl            optparse            tty\n",
      "_ctypes             compileall          os                  turtle\n",
      "_ctypes_test        concurrent          packaging           turtledemo\n",
      "_datetime           configparser        pandas              types\n",
      "_decimal            contextlib          parso               typing\n",
      "_elementtree        contextvars         pathlib             tzdata\n",
      "_functools          contourpy           pdb                 unicodedata\n",
      "_hashlib            copy                perfmon             unittest\n",
      "_heapq              copyreg             pickle              urllib\n",
      "_imp                crypt               pickletools         uu\n",
      "_io                 csv                 pip                 uuid\n",
      "_json               ctypes              pipes               venv\n",
      "_locale             curses              pkgutil             warnings\n",
      "_lsprof             cycler              platform            wave\n",
      "_lzma               dataclasses         platformdirs        wcwidth\n",
      "_markupbase         datetime            plistlib            weakref\n",
      "_md5                dateutil            poplib              webbrowser\n",
      "_msi                dbi                 posixpath           win2kras\n",
      "_multibytecodec     dbm                 pprint              win32api\n",
      "_multiprocessing    dde                 profile             win32clipboard\n",
      "_opcode             debugpy             prompt_toolkit      win32com\n",
      "_operator           decimal             pstats              win32con\n",
      "_osx_support        decorator           psutil              win32console\n",
      "_overlapped         difflib             pty                 win32cred\n",
      "_pickle             dis                 pure_eval           win32crypt\n",
      "_py_abc             doctest             py_compile          win32cryptcon\n",
      "_pydatetime         email               py_scripts          win32event\n",
      "_pydecimal          encodings           pyclbr              win32evtlog\n",
      "_pyio               ensurepip           pydoc               win32evtlogutil\n",
      "_pylong             enum                pydoc_data          win32file\n",
      "_queue              errno               pyexpat             win32gui\n",
      "_random             executing           pygments            win32gui_struct\n",
      "_sha1               faulthandler        pylab               win32help\n",
      "_sha2               filecmp             pyparsing           win32inet\n",
      "_sha3               fileinput           pythoncom           win32inetcon\n",
      "_signal             fnmatch             pytz                win32job\n",
      "_sitebuiltins       fontTools           pywin               win32lz\n",
      "_socket             fractions           pywin32_bootstrap   win32net\n",
      "_sqlite3            ftplib              pywin32_testutil    win32netcon\n",
      "_sre                functools           pywintypes          win32pdh\n",
      "_ssl                gc                  queue               win32pdhquery\n",
      "_stat               genericpath         quopri              win32pdhutil\n",
      "_statistics         getopt              random              win32pipe\n",
      "_string             getpass             rasutil             win32print\n",
      "_strptime           gettext             re                  win32process\n",
      "_struct             glob                regcheck            win32profile\n",
      "_symtable           graphlib            regutil             win32ras\n",
      "_testbuffer         gzip                reprlib             win32rcparser\n",
      "_testcapi           hashlib             rlcompleter         win32security\n",
      "_testclinic         heapq               runpy               win32service\n",
      "_testconsole        hmac                sched               win32serviceutil\n",
      "_testimportmultiple html                scipy               win32timezone\n",
      "_testinternalcapi   http                secrets             win32trace\n",
      "_testmultiphase     idlelib             select              win32traceutil\n",
      "_testsinglephase    imaplib             selectors           win32transaction\n",
      "_thread             imghdr              servicemanager      win32ts\n",
      "_threading_local    importlib           shelve              win32ui\n",
      "_tkinter            inspect             shlex               win32uiole\n",
      "_tokenize           io                  shutil              win32verstamp\n",
      "_tracemalloc        ipaddress           signal              win32wnet\n",
      "_typing             ipykernel           site                winerror\n",
      "_uuid               ipykernel_launcher  six                 winioctlcon\n",
      "_warnings           isapi               smtplib             winnt\n",
      "_weakref            itertools           sndhdr              winperf\n",
      "_weakrefset         jedi                socket              winreg\n",
      "_win32sysloader     json                socketserver        winsound\n",
      "_winapi             jupyter             sqlite3             winxpgui\n",
      "_winxptheme         jupyter_client      sre_compile         winxptheme\n",
      "_wmi                jupyter_core        sre_constants       wsgiref\n",
      "_xxinterpchannels   keyword             sre_parse           xdrlib\n",
      "_xxsubinterpreters  kiwisolver          ssl                 xml\n",
      "_zoneinfo           lib2to3             sspi                xmlrpc\n",
      "abc                 linecache           sspicon             xxsubtype\n",
      "adodbapi            locale              stack_data          zipapp\n",
      "afxres              logging             start_pythonwin     zipfile\n",
      "aifc                lzma                stat                zipimport\n",
      "antigravity         mailbox             statistics          zlib\n",
      "arenz_group_python  mailcap             string              zmq\n",
      "argparse            marshal             stringprep          zoneinfo\n",
      "array               math                struct              \n",
      "ast                 matplotlib          subprocess          \n",
      "\n",
      "Enter any module name to get more help.  Or, type \"modules spam\" to search\n",
      "for modules whose name or summary contain the string \"spam\".\n",
      "\n"
     ]
    }
   ],
   "source": [
    "help('modules')"
   ]
  }
 ],
 "metadata": {
  "kernelspec": {
   "display_name": "Python 3",
   "language": "python",
   "name": "python3"
  },
  "language_info": {
   "codemirror_mode": {
    "name": "ipython",
    "version": 3
   },
   "file_extension": ".py",
   "mimetype": "text/x-python",
   "name": "python",
   "nbconvert_exporter": "python",
   "pygments_lexer": "ipython3",
   "version": "3.12.1"
  }
 },
 "nbformat": 4,
 "nbformat_minor": 2
}
